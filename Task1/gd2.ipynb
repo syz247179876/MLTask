{
 "cells": [
  {
   "cell_type": "code",
   "execution_count": 8,
   "id": "0b2f9bc5",
   "metadata": {
    "pycharm": {
     "is_executing": false
    }
   },
   "outputs": [],
   "source": [
    "import pandas as pd\n",
    "import numpy as np\n",
    "import os\n",
    "import sys\n",
    "import typing as t\n",
    "\n",
    "# CSV_PATH = os.path.join(os.path.dirname(os.path.abspath(__file__)), 'data\\\\train.csv')\n",
    "CSV_PATH = r\"c:\\Users\\24717\\Projects\\MachineLearning\\NTU_ML2017_Hung-yi-Lee_HW\\HW1\\data\\train.csv\"\n"
   ]
  },
  {
   "cell_type": "code",
   "execution_count": 9,
   "id": "227ed063",
   "metadata": {
    "pycharm": {
     "is_executing": false
    }
   },
   "outputs": [],
   "source": [
    "def prefix_process(df_data: pd.DataFrame) -> t.Tuple[np.array, np.array, np.array]:\n",
    "    \"\"\"\n",
    "    数据预处理\n",
    "    \"\"\"\n",
    "    x_list, y_list = [], []\n",
    "    # df替换指定元素，将空数据填充为0\n",
    "    df_data = df_data.replace(['NR'], [0.0])\n",
    "    # astype() 转换array中元素数据类型\n",
    "    array = np.array(df_data).astype(float)\n",
    "    # 将数据集拆分为多个数据帧\n",
    "    for i in range(0, 4320, 18):\n",
    "        for j in range(24-9):\n",
    "            mat = array[i:i+18, j:j+9]\n",
    "            label = array[i+9, j+9] # 第10行是PM2.5\n",
    "            x_list.append(mat)\n",
    "            y_list.append(label)\n",
    "    x = np.array(x_list)\n",
    "    y = np.array(y_list)\n",
    "    return x, y, len(y)"
   ]
  },
  {
   "cell_type": "code",
   "execution_count": 5,
   "id": "c3ed197a",
   "metadata": {
    "pycharm": {
     "is_executing": false
    }
   },
   "outputs": [],
   "source": [
    "def train(\n",
    "    x_train: np.array, \n",
    "    y_label: np.array, \n",
    "    iteration: int,\n",
    "):\n",
    "    \"\"\"\n",
    "    训练模型\n",
    "    \"\"\"\n",
    "    bias = 0 # 初始偏置值\n",
    "    weights = np.ones(9) # 权重初始化\n",
    "    learning_rate = 1  # 初始学习曲率\n",
    "    reg_rate = 0.001  # 正则化系数\n",
    "    bg_sum = 0 # 初始化bias的梯度下降和\n",
    "    wg_sum = np.zeros(9) # 初始化weight的梯度下降和\n",
    "    train_lens = len(x_train)\n",
    "\n",
    "    for i in range(iteration):\n",
    "        b_g = 0\n",
    "        w_g = np.zeros(9)\n",
    "        for j in range(train_lens):\n",
    "            for m in range(9):\n",
    "                w_g[m] += (y_label[j] - np.dot(weights, x_train[j, 9, :]) - bias) * (-x_train[j, 9, m])\n",
    "            b_g += (y_label[j] - np.dot(weights, x_train[j, 9, :]) - bias) * (-1)\n",
    "        b_g /= train_lens\n",
    "        for m in range(9):\n",
    "            w_g[m] = w_g[m] / train_lens + reg_rate * np.sum(weights)\n",
    "        \n",
    "        # 是否使用adgrad优化自适应学习率算法\n",
    "        wg_sum += w_g ** 2\n",
    "        bg_sum += b_g ** 2\n",
    "        weights -= learning_rate / np.sqrt(wg_sum) * w_g\n",
    "        bias -= learning_rate / np.sqrt(bg_sum) * b_g\n",
    "\n",
    "        if i % 200 == 0 :\n",
    "             loss = 0\n",
    "             for j in range(train_lens):\n",
    "                loss += (y_label[j] - np.dot(weights, x_train[j, 9, :]) - bias) ** 2\n",
    "             print('after {} epochs, the loss on train data is:'.format(i), loss/train_lens)\n",
    "             print(f'weight: {weights}, bias: {bias}')\n",
    "    return weights, bias\n"
   ]
  },
  {
   "cell_type": "code",
   "execution_count": 6,
   "id": "2248f479",
   "metadata": {
    "pycharm": {
     "is_executing": false
    }
   },
   "outputs": [],
   "source": [
    "def validate(x_val: np.array, y_val: np.array, weights: np.array, bias: float):\n",
    "    \"\"\"\n",
    "    简单交叉验证测试\n",
    "    \"\"\"\n",
    "    loss = 0\n",
    "    for i in range(len(x_val)):\n",
    "        loss += (y_val[i] - np.dot(weights, x_val[i, 9, :] - bias)) ** 2\n",
    "    return loss / 400"
   ]
  },
  {
   "cell_type": "code",
   "execution_count": null,
   "id": "5c67fdd7",
   "metadata": {},
   "outputs": [],
   "source": [
    "def s_fold_validation(x_val: np.array, y_val: np.array, weights: np.array, bias: float):\n",
    "    pass"
   ]
  },
  {
   "cell_type": "code",
   "execution_count": 7,
   "id": "90b89210",
   "metadata": {
    "pycharm": {
     "is_executing": false
    }
   },
   "outputs": [
    {
     "name": "stdout",
     "output_type": "stream",
     "text": [
      "after 0 epochs, the loss on train data is: 955.3009375\n",
      "weight: [0.00000000e+00 1.11022302e-16 0.00000000e+00 0.00000000e+00\n",
      " 0.00000000e+00 0.00000000e+00 0.00000000e+00 0.00000000e+00\n",
      " 0.00000000e+00], bias: -1.0\n",
      "after 200 epochs, the loss on train data is: 49.86806930542829\n",
      "weight: [ 0.04987391  0.00985012  0.01943023 -0.00319608  0.0197318   0.03941956\n",
      " -0.1943336   0.1987887   0.84691785], bias: 0.1789462375459398\n",
      "after 400 epochs, the loss on train data is: 46.200829394245595\n",
      "weight: [ 4.18816070e-02 -3.10392757e-04  3.30540588e-02 -4.12878290e-02\n",
      "  3.58532224e-02  1.46547656e-01 -3.29580796e-01  1.28575672e-01\n",
      "  9.53500758e-01], bias: 0.7666605100922935\n",
      "The loss on val data is: 48.95745778506594\n"
     ]
    }
   ],
   "source": [
    "def main():\n",
    "    \"\"\"\n",
    "    入口\n",
    "    \"\"\"\n",
    "    df_data = pd.read_csv(CSV_PATH, encoding = 'gb18030', usecols=range(3, 27))\n",
    "    x_train, y_label, lens = prefix_process(df_data)\n",
    "    split_pos = 3200\n",
    "    train_x, train_y = x_train[0: split_pos], y_label[0: split_pos]\n",
    "    test_x, test_y = x_train[split_pos:], y_label[split_pos:]\n",
    "    weight, bias = train(train_x, train_y, 500)\n",
    "    loss = validate(test_x, test_y, weight, bias)\n",
    "    print('The loss on val data is:', loss)\n",
    "    \n",
    "\n",
    "main()"
   ]
  },
  {
   "cell_type": "code",
   "execution_count": null,
   "id": "c27f30d7",
   "metadata": {},
   "outputs": [],
   "source": [
    "weight = [0.00411392,-0.0422015, 0.20925909, -0.21168959, -0.04279669,0.44531037\n",
    " -0.53739735, 0.04967271, 1.05177267]\n",
    "bias = 2.0752944127920574\n"
   ]
  }
 ],
 "metadata": {
  "kernelspec": {
   "display_name": "Python 3",
   "language": "python",
   "name": "python3"
  },
  "language_info": {
   "codemirror_mode": {
    "name": "ipython",
    "version": 3
   },
   "file_extension": ".py",
   "mimetype": "text/x-python",
   "name": "python",
   "nbconvert_exporter": "python",
   "pygments_lexer": "ipython3",
   "version": "3.10.9 (tags/v3.10.9:1dd9be6, Dec  6 2022, 20:01:21) [MSC v.1934 64 bit (AMD64)]"
  },
  "vscode": {
   "interpreter": {
    "hash": "3c270124debe3c0386072cae778af466724022ce0ac8778b20e1cd12b6ec1535"
   }
  },
  "pycharm": {
   "stem_cell": {
    "cell_type": "raw",
    "source": [],
    "metadata": {
     "collapsed": false
    }
   }
  }
 },
 "nbformat": 4,
 "nbformat_minor": 5
}