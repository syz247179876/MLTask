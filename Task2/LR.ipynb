{
 "cells": [
  {
   "cell_type": "code",
   "execution_count": null,
   "metadata": {
    "pycharm": {
     "is_executing": true
    }
   },
   "outputs": [],
   "source": [
    "import pandas as pd\n",
    "import numpy as np\n",
    "import os\n",
    "import typing as t\n",
    "__file__ = os.getcwd()\n",
    "CSV_PATH = os.path.join(os.path.abspath(__file__), 'data\\\\train.csv')"
   ]
  },
  {
   "cell_type": "code",
   "execution_count": null,
   "metadata": {
    "pycharm": {
     "is_executing": true,
     "name": "#%%\n"
    }
   },
   "outputs": [],
   "source": [
    "def simple_split(\n",
    "        data: np.array, \n",
    "        label: np.array\n",
    ") -> t.Tuple[np.array, np.array, np.array, np.array]:\n",
    "    \"\"\"简单交叉验证\"\"\"\n",
    "    lens = len(data)\n",
    "    train_num = int(lens * 0.7)\n",
    "    train_x = data[: train_num]\n",
    "    train_y = label[: train_num]\n",
    "    test_x = data[train_num: ]\n",
    "    test_y = label[train_num: ]\n",
    "    return train_x, train_y, test_x, test_y\n",
    "    \n",
    "\n",
    "def k_fold_split(\n",
    "        data: np.array, \n",
    "        label: np.array, \n",
    "        k: int = 10,\n",
    ") -> t.Tuple[np.array, np.array, np.array, np.array]:\n",
    "    \"\"\"K折交叉验证, 默认10折\"\"\"\n",
    "    lens = len(data)\n",
    "    cell_num = lens // k\n",
    "    for i in range(cell_num):\n",
    "        # 在纵向合并两个array\n",
    "        if i == cell_num - 1 or (i + 1) * k > lens:\n",
    "            last_num = lens\n",
    "        else:\n",
    "            last_num = (i + 1) * k\n",
    "        train_x = np.concatenate([data[: i * k], data[last_num: ]], axis = 0)\n",
    "        train_y = np.concatenate([label[: i * k], label[last_num: ]], axis = 0)\n",
    "        test_x = data[i * k: last_num]\n",
    "        test_y = label[i * k: last_num]\n",
    "        yield train_x, train_y, test_x, test_y\n",
    "        \n",
    "\n",
    "def prefix_process(\n",
    "        df_data: pd.DataFrame, \n",
    "        validate_choice: int = 1,\n",
    "        fold_num: int = 10,\n",
    ") -> t.Tuple[np.array, np.array, np.array, np.array]:\n",
    "    # NaN数据填充为0\n",
    "    df_data.fillna(0)\n",
    "    array = np.array(df_data)\n",
    "    x = array[:, 1: -1]\n",
    "    y = array[:, -1]\n",
    "    # 对倒数第二列, 第三列缩小范围之1左右\n",
    "    x[-1] /= np.mean(x[-1])\n",
    "    x[-2] /= np.mean(x[-2])\n",
    "    \n",
    "    if validate_choice == 1:\n",
    "        return simple_split(x, y)\n",
    "    else:\n",
    "        return k_fold_split(x, y, fold_num)\n",
    "    \n",
    "    \n"
   ]
  },
  {
   "cell_type": "code",
   "execution_count": null,
   "metadata": {
    "pycharm": {
     "is_executing": true,
     "name": "#%%\n"
    }
   },
   "outputs": [],
   "source": [
    "def train(train_x: np.array, train_y: np.array, iterations: int):\n",
    "    \"\"\"\n",
    "    训练模型\n",
    "    1.先针对特征构造线性回归模型, z = wx + b\n",
    "    2.将z带入sigmoid函数, 形成输入空间x到输出空间y的非线性映射。y = 1 / (1 + exp(-z))\n",
    "    3.对y取对数, 由于logistic Regression 处理的是二分类问题 ==> \n",
    "        p(y=1|x) = exp(z) / (1 + exp(z))\n",
    "        p(y=0|x) = 1 / (1 + exp(z))\n",
    "        \n",
    "    \"\"\"\n",
    "    lens = len(train_y)\n",
    "    weights = np.ones(57)  # 初始化特征权重\n",
    "    bias = 0  # 初始化偏置值\n",
    "    bg_sum = 0 # 初始化bias的梯度下降和\n",
    "    wg_sum = np.zeros(57) # 初始化weight的梯度下降和\n",
    "    reg_rate = 0.001 # 选择L2范数, 2 / reg_rate * ||w||²\n",
    "    learning_rate = 1  # 初始学习曲率\n",
    "    \n",
    "    \n",
    "    for k in range(iterations):\n",
    "        b_g = 0\n",
    "        w_g = np.zeros(57)\n",
    "        \n",
    "        for i in range(lens):\n",
    "            z = weights.dot(train_x[i, :]) + bias\n",
    "            if z >= 0:\n",
    "                yn = 1 / (1 + np.exp(-z))\n",
    "            else:\n",
    "                yn = np.exp(z) / (1 + np.exp(z)) # sigmoid函数 = p(y=1|x)\n",
    "            \n",
    "            \"\"\"Loss函数形式\n",
    "            p1 = np.log(z) / (1 + np.log(z)) # p(y=1|x)\n",
    "            p0 = 1 - p1 # p(y=1|x)\n",
    "            loss = -train_y[i] * np.log(p1) - (1 - train_y[i]) * np.log(p0))\n",
    "            loss = -train_y[i] * z + np.log(1 + np.exp(z)))\n",
    "            \"\"\"\n",
    "            \n",
    "            # 对loss进行的weight和bias用梯度下降法求极小值点\n",
    "            for m in range(57):\n",
    "                w_g[m] += -1 * (train_y[i] - yn) * train_x[i, m]\n",
    "            b_g += -1 * (train_y[i] - yn)\n",
    "        \n",
    "        # 添加正则化项\n",
    "        w_g += reg_rate * np.sum(weights)\n",
    "            \n",
    "        # Adagrad优化自适应学习率\n",
    "        wg_sum += w_g ** 2\n",
    "        bg_sum += b_g ** 2\n",
    "        weights -= learning_rate / wg_sum ** 0.5 * w_g\n",
    "        bias -= learning_rate / bg_sum ** 0.5 * b_g\n",
    "        \n",
    "        if k % 200 == 0:\n",
    "            acc = 0\n",
    "            for w in range(lens):\n",
    "                z = weights.dot(train_x[w, :]) + bias\n",
    "                yn = 1 / (1 + np.exp(-z)) # sigmoid函数 = p(y=1|x)\n",
    "                if yn > 0.5:\n",
    "                    cur_category = 1\n",
    "                else:\n",
    "                    cur_category = 0\n",
    "                if cur_category == train_y[w]:\n",
    "                    acc += 1\n",
    "                \n",
    "            print('after {} epochs, the currency on train data is:'.format(k), acc/lens)\n",
    "            # print(f'weight: {weights}, bias: {bias}')\n",
    "            \n",
    "    return weights, bias\n",
    "            \n",
    "            \n",
    "    \n",
    "    "
   ]
  },
  {
   "cell_type": "code",
   "execution_count": null,
   "metadata": {
    "pycharm": {
     "is_executing": true,
     "name": "#%%\n"
    }
   },
   "outputs": [],
   "source": [
    "def simple_validate(\n",
    "        weights: np.array, \n",
    "        bias: float,\n",
    "        test_x: np.array, \n",
    "        test_y: np.array\n",
    "):\n",
    "    \"\"\"3:7验证\"\"\"\n",
    "    lens = len(test_y)\n",
    "    acc = 0\n",
    "    for i in range(lens):\n",
    "        z = weights.dot(test_x[i, :]) + bias\n",
    "        yn = 1 / (1 + np.exp(-z)) # sigmoid函数 = p(y=1|x)\n",
    "        if yn > 0.5:\n",
    "            cur_category = 1\n",
    "        else:\n",
    "            cur_category = 0\n",
    "        if cur_category == test_y[i]:\n",
    "            acc += 1\n",
    "    return acc / lens\n",
    "    \n"
   ]
  },
  {
   "cell_type": "code",
   "execution_count": null,
   "metadata": {
    "pycharm": {
     "is_executing": true,
     "name": "#%%\n"
    }
   },
   "outputs": [],
   "source": [
    "def main():\n",
    "    \"\"\"使用简单交叉验证\"\"\"\n",
    "    df_data = pd.read_csv(CSV_PATH)\n",
    "    train_x, train_y, test_x, test_y = prefix_process(df_data)\n",
    "    weights, bias = train(train_x, train_y, 10000)\n",
    "    accuracy = simple_validate(weights, bias, test_x, test_y)\n",
    "    print('test accuracy:', accuracy)\n",
    "    # print('weights:', weights)\n",
    "    # print('bias:', bias)\n",
    "    \n",
    "main()"
   ]
  },
  {
   "cell_type": "code",
   "execution_count": null,
   "metadata": {
    "pycharm": {
     "is_executing": true,
     "name": "#%%\n"
    }
   },
   "outputs": [],
   "source": [
    "def main():\n",
    "    \"\"\"使用K折交叉验证\"\"\"\n",
    "    df_data = pd.read_csv(CSV_PATH)\n",
    "    m = 1\n",
    "    _accuracy = 0\n",
    "    _weights = None\n",
    "    _bias = None\n",
    "    for train_x, train_y, test_x, test_y in prefix_process(df_data, validate_choice=0):\n",
    "        weights, bias = train(train_x, train_y, 10000)\n",
    "        accuracy = simple_validate(weights, bias, test_x, test_y)\n",
    "        if accuracy > _accuracy:\n",
    "            _accuracy = accuracy\n",
    "            _weights = weights\n",
    "            _bias = bias\n",
    "        m += 1\n",
    "        print('------------------------------------')\n",
    "    print(f'most accuracy: {_accuracy}')\n",
    "    # print('weights:', _weights)\n",
    "    # print('bias:', _bias)\n",
    "    \n",
    "main()\n",
    "        "
   ]
  },
  {
   "cell_type": "code",
   "execution_count": null,
   "outputs": [],
   "source": [
    "\n"
   ],
   "metadata": {
    "collapsed": false,
    "pycharm": {
     "name": "#%%\n",
     "is_executing": true
    }
   }
  }
 ],
 "metadata": {
  "kernelspec": {
   "display_name": "Python 3 (ipykernel)",
   "language": "python",
   "name": "python3"
  },
  "language_info": {
   "codemirror_mode": {
    "name": "ipython",
    "version": 3
   },
   "file_extension": ".py",
   "mimetype": "text/x-python",
   "name": "python",
   "nbconvert_exporter": "python",
   "pygments_lexer": "ipython3",
   "version": "3.10.9"
  },
  "pycharm": {
   "stem_cell": {
    "cell_type": "raw",
    "source": [],
    "metadata": {
     "collapsed": false
    }
   }
  }
 },
 "nbformat": 4,
 "nbformat_minor": 1
}